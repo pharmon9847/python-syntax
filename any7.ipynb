{
 "cells": [
  {
   "cell_type": "code",
   "execution_count": 15,
   "id": "7bfed93e",
   "metadata": {},
   "outputs": [
    {
     "name": "stdout",
     "output_type": "stream",
     "text": [
      "should be true True\n",
      "should be false False\n"
     ]
    }
   ],
   "source": [
    "def any7(nums):\n",
    "    \"\"\"Are any of these numbers a 7? (True/False)\"\"\"\n",
    "\n",
    "    # YOUR CODE HERE \n",
    "    for number in nums:\n",
    "        if number == 7:\n",
    "            return True\n",
    "\n",
    "    return False\n",
    "\n",
    "\n",
    "print(\"should be true\", any7([1, 2, 7, 4, 5]))\n",
    "print(\"should be false\", any7([1, 2, 4, 5]))\n",
    "\n"
   ]
  },
  {
   "cell_type": "code",
   "execution_count": null,
   "id": "862e1cc6",
   "metadata": {},
   "outputs": [],
   "source": []
  }
 ],
 "metadata": {
  "kernelspec": {
   "display_name": "Python 3 (ipykernel)",
   "language": "python",
   "name": "python3"
  },
  "language_info": {
   "codemirror_mode": {
    "name": "ipython",
    "version": 3
   },
   "file_extension": ".py",
   "mimetype": "text/x-python",
   "name": "python",
   "nbconvert_exporter": "python",
   "pygments_lexer": "ipython3",
   "version": "3.11.5"
  }
 },
 "nbformat": 4,
 "nbformat_minor": 5
}
