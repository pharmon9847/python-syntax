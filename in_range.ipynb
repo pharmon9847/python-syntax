{
 "cells": [
  {
   "cell_type": "code",
   "execution_count": 3,
   "id": "ebabc4a4",
   "metadata": {},
   "outputs": [
    {
     "name": "stdout",
     "output_type": "stream",
     "text": [
      "20 fits\n",
      "30 fits\n"
     ]
    }
   ],
   "source": [
    "def in_range(nums, lowest, highest):\n",
    "    \"\"\"Print numbers inside range.\n",
    "\n",
    "    - nums: list of numbers\n",
    "    - lowest: lowest number to print\n",
    "    - highest: highest number to print\n",
    "\n",
    "    For example:\n",
    "\n",
    "      in_range([10, 20, 30, 40], 15, 30)\n",
    "\n",
    "    should print:\n",
    "\n",
    "      20 fits\n",
    "      30 fits\n",
    "    \"\"\"\n",
    "\n",
    "    # YOUR CODE HERE\n",
    "    for num in nums:\n",
    "        if num >= lowest and num <= highest:\n",
    "            print(f\"{num} fits\")\n",
    "\n",
    "\n",
    "in_range([10, 20, 30, 40, 50], 15, 30) "
   ]
  },
  {
   "cell_type": "code",
   "execution_count": null,
   "id": "1664f707",
   "metadata": {},
   "outputs": [],
   "source": []
  }
 ],
 "metadata": {
  "kernelspec": {
   "display_name": "Python 3 (ipykernel)",
   "language": "python",
   "name": "python3"
  },
  "language_info": {
   "codemirror_mode": {
    "name": "ipython",
    "version": 3
   },
   "file_extension": ".py",
   "mimetype": "text/x-python",
   "name": "python",
   "nbconvert_exporter": "python",
   "pygments_lexer": "ipython3",
   "version": "3.11.5"
  }
 },
 "nbformat": 4,
 "nbformat_minor": 5
}
