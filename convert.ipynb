{
 "cells": [
  {
   "cell_type": "code",
   "execution_count": 5,
   "id": "390245e5",
   "metadata": {},
   "outputs": [
    {
     "name": "stdout",
     "output_type": "stream",
     "text": [
      "c f 0 32.0 should be 32.0\n",
      "f c 212 100.0 should be 100.0\n",
      "z f 32 invalid unit z should be Invalid unit z\n",
      "c z 32 invalid unit z should be Invalid unit z\n",
      "f f 75.5 75.5 should be 75.5\n"
     ]
    }
   ],
   "source": [
    "def convert_temp(unit_in, unit_out, temp):\n",
    "    \"\"\"Convert farenheit <-> celsius and return results.\n",
    "\n",
    "    - unit_in: either \"f\" or \"c\" \n",
    "    - unit_out: either \"f\" or \"c\"\n",
    "    - temp: temperature (in f or c, depending on unit_in)\n",
    "\n",
    "    Return results of conversion, if any.\n",
    "\n",
    "    If unit_in or unit_out are invalid, return \"Invalid unit [UNIT_IN]\".\n",
    "\n",
    "    For example:\n",
    "\n",
    "      convert_temp(\"c\", \"f\", 0)  =>  32.0\n",
    "      convert_temp(\"f\", \"c\", 212) => 100.0\n",
    "    \"\"\"\n",
    "\n",
    "    # YOUR CODE HERE\n",
    "    if unit_in == \"f\" and unit_out == \"c\":\n",
    "        temp = (temp - 32) / 1.8\n",
    "    elif unit_in == \"c\" and unit_out == \"f\":\n",
    "        temp = (temp * 1.8) + 32\n",
    "    if unit_in != \"c\" and unit_in != \"f\":\n",
    "        return f\"invalid unit {unit_in}\"\n",
    "    if unit_out != \"c\" and unit_out != \"f\":\n",
    "        return f\"invalid unit {unit_out}\"\n",
    "    return temp\n",
    "\n",
    "print(\"c\", \"f\", 0, convert_temp(\"c\", \"f\", 0), \"should be 32.0\")\n",
    "print(\"f\", \"c\", 212, convert_temp(\"f\", \"c\", 212), \"should be 100.0\")\n",
    "print(\"z\", \"f\", 32, convert_temp(\"z\", \"f\", 32), \"should be Invalid unit z\")\n",
    "print(\"c\", \"z\", 32, convert_temp(\"c\", \"z\", 32), \"should be Invalid unit z\")\n",
    "print(\"f\", \"f\", 75.5, convert_temp(\"f\", \"f\", 75.5), \"should be 75.5\")"
   ]
  },
  {
   "cell_type": "code",
   "execution_count": null,
   "id": "cd9fcef8",
   "metadata": {},
   "outputs": [],
   "source": []
  }
 ],
 "metadata": {
  "kernelspec": {
   "display_name": "Python 3 (ipykernel)",
   "language": "python",
   "name": "python3"
  },
  "language_info": {
   "codemirror_mode": {
    "name": "ipython",
    "version": 3
   },
   "file_extension": ".py",
   "mimetype": "text/x-python",
   "name": "python",
   "nbconvert_exporter": "python",
   "pygments_lexer": "ipython3",
   "version": "3.11.5"
  }
 },
 "nbformat": 4,
 "nbformat_minor": 5
}
