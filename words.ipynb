{
 "cells": [
  {
   "cell_type": "code",
   "execution_count": 5,
   "id": "64919b8b",
   "metadata": {},
   "outputs": [],
   "source": [
    "def print_upper_words(words):\n",
    "    \"\"\"Print each word from a given list on a separate line\n",
    "        Each word should be uppercased\n",
    "        \n",
    "        >>> print_upper_words([\"hello\", \"goodbye\", \"dog\", \"cat\"])\n",
    "        HELLO\n",
    "        GOODBYE\n",
    "        DOG\n",
    "        CAT\n",
    "    \"\"\"\n",
    "    for word in words:\n",
    "        print(word.upper())\n",
    "    \n",
    "def print_upper_words_v2(words):\n",
    "    \"\"\"Print each word from a given list that starts with 'e' or 'E' on a separate line\n",
    "        Each word should be uppercased\n",
    "        \n",
    "        >>> print_upper_words_v2([\"earthling\", \"eagle\", \"excellent\", \"cat\"])\n",
    "        EARTHLING\n",
    "        EAGLE\n",
    "        EXCELLENT\n",
    "    \"\"\"\n",
    "    for word in words:\n",
    "        if word.startswith(\"e\") or word.startswith(\"E\"):\n",
    "            print(word.upper())\n",
    "    \n",
    "\n",
    "def print_upper_words_v3(words, starts_with):\n",
    "    \"\"\"Print each word from a given list on a separate line that starts with the letter given\n",
    "        Each word should be uppercased\n",
    "        \n",
    "        >>> print_upper_words([\"hello\", \"goodbye\", \"dog\", \"cat\"], starts_with=[\"H\", \"C\"])\n",
    "        HELLO\n",
    "        CAT\n",
    "    \"\"\"\n",
    "    for word in words:\n",
    "        for letter in starts_with:\n",
    "            if word.startswith(letter):\n",
    "                print(word.upper())\n",
    "                break"
   ]
  },
  {
   "cell_type": "code",
   "execution_count": 6,
   "id": "50a7f68f",
   "metadata": {},
   "outputs": [
    {
     "name": "stdout",
     "output_type": "stream",
     "text": [
      "HELLO\n",
      "HOWDY\n",
      "SUP DOG\n",
      "GOODBYE\n",
      "CHECK YA\n",
      "PEACE OUT\n"
     ]
    }
   ],
   "source": [
    "print_upper_words([\"Hello\", \"howdy\", \"sup dog\", \"goodbye\", \"check ya\", \"peace out\"])"
   ]
  },
  {
   "cell_type": "code",
   "execution_count": 7,
   "id": "52421907",
   "metadata": {},
   "outputs": [
    {
     "name": "stdout",
     "output_type": "stream",
     "text": [
      "EXCELLENT\n",
      "EXTRORDINARY\n",
      "EQUIVALENT\n"
     ]
    }
   ],
   "source": [
    "print_upper_words_v2([\"excellent\", \"Extrordinary\", \"equivalent\", \"dog\", \"cat\"])"
   ]
  },
  {
   "cell_type": "code",
   "execution_count": 9,
   "id": "913e5838",
   "metadata": {},
   "outputs": [
    {
     "name": "stdout",
     "output_type": "stream",
     "text": [
      "HELLO\n",
      "HOWDY\n"
     ]
    }
   ],
   "source": [
    "print_upper_words_v3([\"Hello\", \"howdy\", \"sup dog\", \"goodbye\", \"check ya\", \"peace out\"], starts_with=[\"H\", \"h\"])"
   ]
  },
  {
   "cell_type": "code",
   "execution_count": null,
   "id": "11097904",
   "metadata": {},
   "outputs": [],
   "source": []
  }
 ],
 "metadata": {
  "kernelspec": {
   "display_name": "Python 3 (ipykernel)",
   "language": "python",
   "name": "python3"
  },
  "language_info": {
   "codemirror_mode": {
    "name": "ipython",
    "version": 3
   },
   "file_extension": ".py",
   "mimetype": "text/x-python",
   "name": "python",
   "nbconvert_exporter": "python",
   "pygments_lexer": "ipython3",
   "version": "3.11.5"
  }
 },
 "nbformat": 4,
 "nbformat_minor": 5
}
