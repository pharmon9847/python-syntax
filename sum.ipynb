{
 "cells": [
  {
   "cell_type": "code",
   "execution_count": 5,
   "id": "f28e51ab",
   "metadata": {},
   "outputs": [
    {
     "name": "stdout",
     "output_type": "stream",
     "text": [
      "sum_nums returned 10\n"
     ]
    }
   ],
   "source": [
    "def sum_nums(nums):\n",
    "    \"\"\"Given list of numbers, return sum of those numbers.\n",
    "\n",
    "    For example:\n",
    "      sum_nums([1, 2, 3, 4])\n",
    "\n",
    "    Should return (not print):\n",
    "      10\n",
    "    \"\"\"  \n",
    "\n",
    "    # Python has a built-in function `sum()` for this, but we don't\n",
    "    # want you to use it. Please write this by hand.\n",
    "\n",
    "    # YOUR CODE HERE\n",
    "    total = 0\n",
    "    \n",
    "    for num in nums:\n",
    "        total = total + num\n",
    "        \n",
    "    return total\n",
    "\n",
    "\n",
    "print(\"sum_nums returned\", sum_nums([1, 2, 3, 4]))"
   ]
  },
  {
   "cell_type": "code",
   "execution_count": null,
   "id": "546223d4",
   "metadata": {},
   "outputs": [],
   "source": []
  }
 ],
 "metadata": {
  "kernelspec": {
   "display_name": "Python 3 (ipykernel)",
   "language": "python",
   "name": "python3"
  },
  "language_info": {
   "codemirror_mode": {
    "name": "ipython",
    "version": 3
   },
   "file_extension": ".py",
   "mimetype": "text/x-python",
   "name": "python",
   "nbconvert_exporter": "python",
   "pygments_lexer": "ipython3",
   "version": "3.11.5"
  }
 },
 "nbformat": 4,
 "nbformat_minor": 5
}
